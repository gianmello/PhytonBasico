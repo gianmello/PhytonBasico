{
 "cells": [
  {
   "cell_type": "code",
   "execution_count": 10,
   "id": "1b5d8c5d-c629-41f6-93f4-0b36d62c86f0",
   "metadata": {},
   "outputs": [
    {
     "name": "stdout",
     "output_type": "stream",
     "text": [
      "amplitude: 4\n"
     ]
    }
   ],
   "source": [
    "\n",
    "def amplitude(x):\n",
    "    print(\"amplitude:\", max(x)-min(x))\n",
    "    \n",
    "xa = [1,2,3,4,5]\n",
    "amplitude(xa)"
   ]
  },
  {
   "cell_type": "code",
   "execution_count": 12,
   "id": "f3cfe83c-f653-4aaf-af03-025c0345c935",
   "metadata": {},
   "outputs": [
    {
     "name": "stdout",
     "output_type": "stream",
     "text": [
      "g\n",
      "i\n",
      "a\n",
      "n\n"
     ]
    }
   ],
   "source": [
    "def vertical(palavra):\n",
    "    for n in range(0,len(palavra)):\n",
    "        print(palavra[n])\n",
    "        \n",
    "frase = \"gian\"\n",
    "vertical(frase)"
   ]
  },
  {
   "cell_type": "code",
   "execution_count": 15,
   "id": "4be7eff5-c261-4d01-92a9-bb35fc57fffa",
   "metadata": {},
   "outputs": [
    {
     "name": "stdout",
     "output_type": "stream",
     "text": [
      "o transporte não é aceito\n"
     ]
    }
   ],
   "source": [
    "peso = 21\n",
    "\n",
    "if peso <=10:\n",
    "    print(\"o valor é 50 reais\")\n",
    "elif peso>10 and peso<=20:\n",
    "    print(\"o valor é 80 reais\")\n",
    "else:\n",
    "    print(\"o transporte não é aceito\")"
   ]
  }
 ],
 "metadata": {
  "kernelspec": {
   "display_name": "Python 3",
   "language": "python",
   "name": "python3"
  },
  "language_info": {
   "codemirror_mode": {
    "name": "ipython",
    "version": 3
   },
   "file_extension": ".py",
   "mimetype": "text/x-python",
   "name": "python",
   "nbconvert_exporter": "python",
   "pygments_lexer": "ipython3",
   "version": "3.8.8"
  }
 },
 "nbformat": 4,
 "nbformat_minor": 5
}
